{
 "cells": [
  {
   "cell_type": "markdown",
   "metadata": {
    "slideshow": {
     "slide_type": "slide"
    }
   },
   "source": [
    "# <b> Project 1"
   ]
  },
  {
   "cell_type": "markdown",
   "metadata": {
    "slideshow": {
     "slide_type": "subslide"
    }
   },
   "source": [
    "<b>Introduction<br></b>\n",
    "<p>In this project, there will be three parts to analyze pandas. First part will be Grammar for pandas library. Second part will implement an algorithm to identify if the input is vaild DataFrame structure. Third part will be the cost analysis of DataFrame and type of the parameter . "
   ]
  },
  {
   "cell_type": "markdown",
   "metadata": {},
   "source": [
    "<div style=\"background-color:#E1F8E1; padding:5px 8px 5px 8px;\">\n",
    "The following BNF grammar definition of Pandas:\n",
    "\n",
    "\\begin{eqnarray*}\n",
    "\\textit{ mod}& ::= &\\textbf{Module(stmt* body))} \\\\\n",
    "                 &  |  &\\textbf{Expression(expr body)} \\\\\n",
    " & & \\\\\n",
    "\\textit{stmt}& ::= &\\textbf{Assign(expr* targets, stmt value))} \\\\\n",
    " & & \\\\\n",
    " & & \\\\\n",
    "\\textit{expr}& ::= &\\textbf{Attribute(expr value, identifier attr, expr_context ctx)} \\\\\n",
    "                 &  |  &\\textbf{ Num(object n)} \\\\\n",
    "                 &  |  &\\textbf{ Subscript(expr value, slice slice, expr_context ctx)} \\\\\n",
    "                 &  |  &\\textbf{ Str(string s)} \\\\\n",
    "                 &  |  &\\textbf{ Name(identifier id, expr_context ctx)} \\\\\n",
    "                 &  |  &\\textbf{ Dict(expr* keys,  expr* values)} \\\\\n",
    "                 &  |  &\\textbf{List(expr* elts, expr_context ctx)} \\\\\n",
    "                 &  |  &\\textbf{Tuple(expr* elts, expr_context ctx)} \\\\\n",
    "                 &  |  &\\textbf{Slice(expr* value)} \\\\\n",
    "                 &  |  &\\textbf{Call(expr func, expr* args, keyword* keywords)} \\\\\n",
    "                 &  |  &\\textbf{BinOp(expr left, operator op, expr right)} \\\\\n",
    " & & \\\\\n",
    "\\textit{operator}& ::= &\\textbf{Add } \\\\\n",
    " & & \\\\\n",
    "  & & \\\\\n",
    "\\text{keyword arguments supplied to call:}\\\\\n",
    "\\textit{keyword}& ::= &\\textbf{(identifier? arg, expr value) } \\\\\n",
    "\\end{eqnarray*}\n",
    "</div>"
   ]
  },
  {
   "cell_type": "markdown",
   "metadata": {
    "slideshow": {
     "slide_type": "fragment"
    }
   },
   "source": [
    "<b>Part II</b>\n",
    "<p>Below is an implementation of an algorithm that determine if the input statement can be transform or is already DataFrame or not\n",
    "<br>"
   ]
  },
  {
   "cell_type": "code",
   "execution_count": 6,
   "metadata": {
    "slideshow": {
     "slide_type": "slide"
    }
   },
   "outputs": [
    {
     "name": "stdout",
     "output_type": "stream",
     "text": [
      "Test1:  True\n",
      "Test2:  True\n",
      "Test3:  True\n",
      "Test4:  False\n"
     ]
    }
   ],
   "source": [
    "#This \n",
    "import ast \n",
    "import pandas as pd\n",
    "class is_DataFrame(ast.NodeVisitor):\n",
    "    def __init__(self):\n",
    "        '''a parameter to check when pass in a dictionary, there must be a index'''\n",
    "        self.dic = False\n",
    "        \n",
    "    def visit_Module(self, node):\n",
    "        results = [self.visit(s) for s in node.body]\n",
    "        return all(results)\n",
    "\n",
    "    def visit_Assign(self, node):\n",
    "        return self.visit(node.value)\n",
    "    \n",
    "    def visit_Expr(self, node):\n",
    "        return self.visit(node.value)\n",
    "    \n",
    "    def visit_Call(self, node):\n",
    "        if len(node.keywords) > 1:\n",
    "            for each in node.keywords:\n",
    "                if each.arg == 'index':\n",
    "                    self.dic = True\n",
    "        a = node.keywords[0]\n",
    "        results = self.visit(a)\n",
    "        return results\n",
    "    \n",
    "    def visit_keyword(self, node):\n",
    "        return self.visit(node.value)\n",
    "    \n",
    "    def visit_BinOp(self, node):\n",
    "        return self.visit(node.left) and self.visit(node.right)\n",
    "\n",
    "    def visit_List(self, node):\n",
    "        return True\n",
    "    \n",
    "    def visit_Dict(self, node):\n",
    "        '''need to specify the if index exist'''\n",
    "        return self.dic\n",
    "    \n",
    "    def visit_Subscript(self, node):\n",
    "        return True\n",
    "    \n",
    "\n",
    "\n",
    "test1 = ast.parse('pd.DataFrame(data = [1,2,3] ) + pd.DataFrame(data = [1,2,3] )')\n",
    "test2 = ast.parse('pd.DataFrame(data = {1:1,2:2},index = {1,2})')\n",
    "test3 = ast.parse('k = pd.DataFrame(data = [1,2,3] )')\n",
    "test4 = ast.parse('pd.DataFrame(data = {1,2,3} )')\n",
    "print(\"Test1: \", is_DataFrame().visit(test1))\n",
    "print(\"Test2: \", is_DataFrame().visit(test2))\n",
    "print(\"Test3: \", is_DataFrame().visit(test3))\n",
    "print(\"Test4: \", is_DataFrame().visit(test4))"
   ]
  },
  {
   "cell_type": "markdown",
   "metadata": {
    "slideshow": {
     "slide_type": "fragment"
    }
   },
   "source": [
    "<b>Part III</b>\n",
    "<p>a) Implementation of a static analysis algorithm that infers the type of a single DataFrame expression."
   ]
  },
  {
   "cell_type": "code",
   "execution_count": 8,
   "metadata": {},
   "outputs": [],
   "source": [
    "import ast \n",
    "import pandas as pd\n",
    "\n",
    "class infer_type(ast.NodeVisitor):\n",
    "    \n",
    "    def visit_Module(self, node):\n",
    "        results = [self.visit(s) for s in node.body]\n",
    "        if results == [dict] or results == [list]:\n",
    "            return results[0]\n",
    "        \n",
    "    def visit_Assign(self, node):\n",
    "        return self.visit(node.value)\n",
    "\n",
    "    def visit_Expr(self, node):\n",
    "        return self.visit(node.value)\n",
    "\n",
    "    def visit_Call(self, node):\n",
    "        a = node.keywords[0]\n",
    "        results = self.visit(a)\n",
    "        return results\n",
    "    \n",
    "    def visit_keyword(self, node):\n",
    "        return self.visit(node.value)\n",
    "\n",
    "    def visit_BinOp(self, node):\n",
    "        if type(node.op) in [ast.Add]:\n",
    "            if self.visit(node.left) is list and\\\n",
    "               self.visit(node.right) is list:\n",
    "                return list    \n",
    "    \n",
    "    def visit_List(self, node):\n",
    "        return list\n",
    "    \n",
    "    def visit_Dict(self, node):\n",
    "        return dict\n"
   ]
  },
  {
   "cell_type": "code",
   "execution_count": 20,
   "metadata": {},
   "outputs": [
    {
     "name": "stdout",
     "output_type": "stream",
     "text": [
      "Type Test1:  <class 'list'>\n",
      "Type Test2:  <class 'dict'>\n",
      "Type Test3:  Your input is not a valid DataFrame input\n",
      "Type Test4:  Your input is not a valid DataFrame input\n",
      "Type Test5:  <class 'dict'>\n"
     ]
    }
   ],
   "source": [
    "def typeInput(newInput):\n",
    "    '''test your input if is a dataframe then try to \n",
    "        find out the type of you dataframe parameter'''\n",
    "    test = ast.parse(newInput)\n",
    "    res = is_DataFrame().visit(test)\n",
    "    if res == True:\n",
    "        return infer_type().visit(test)\n",
    "    else:\n",
    "        return \"Your input is not a valid DataFrame input\"\n",
    "    \n",
    "\n",
    "type_test1 = 'k = pd.DataFrame(data = [1,2,3] )'\n",
    "type_test2 = 'pd.DataFrame(data = {1:1,2:2},index = {1,2})'\n",
    "type_test3 = 'pd.DataFrame(data = 1 )'\n",
    "type_test4 = 'pd.DataFrame(data = {1,2,3} )'\n",
    "type_test5 = 'pd.DataFrame(data = {1:\"ert\",2:\"wier\"},index = {1,2})'\n",
    "print(\"Type Test1: \", typeInput(type_test1))\n",
    "print(\"Type Test2: \", typeInput(type_test2))\n",
    "print(\"Type Test3: \", typeInput(type_test3))\n",
    "print(\"Type Test4: \", typeInput(type_test4))\n",
    "print(\"Type Test5: \", typeInput(type_test5))"
   ]
  },
  {
   "cell_type": "markdown",
   "metadata": {
    "slideshow": {
     "slide_type": "fragment"
    }
   },
   "source": [
    "<p>b) One dimensional DataFrame Cost analysis without runing code"
   ]
  },
  {
   "cell_type": "code",
   "execution_count": 16,
   "metadata": {},
   "outputs": [],
   "source": [
    "class arr_memory_check(ast.NodeVisitor):\n",
    "    \n",
    "    def __init__(self):\n",
    "        self.nn = 0\n",
    "        self.single = 1\n",
    "    \n",
    "    def visit_Module(self, node):\n",
    "        results = [self.visit(s) for s in node.body]\n",
    "        return results[0]\n",
    "    \n",
    "    def visit_Assign(self, node):\n",
    "        return self.visit(node.value)\n",
    "\n",
    "    def visit_Expr(self, node):\n",
    "        return self.visit(node.value)\n",
    "\n",
    "    def visit_Call(self, node):\n",
    "        results = [self.visit(s) for s in node.keywords]\n",
    "        return results[0]\n",
    "    \n",
    "    def visit_keyword(self, node):\n",
    "        return self.visit(node.value)\n",
    "\n",
    "    def visit_BinOp(self, node):\n",
    "         return self.visit(node.left) + self.visit(node.right)    \n",
    "    \n",
    "    def visit_List(self, node):\n",
    "        self.nn = len(node.elts)\n",
    "        result = [self.visit(s) for s in node.elts]\n",
    "        return result[0]\n",
    "    \n",
    "    def visit_Dict(self, node):\n",
    "        self.nn = len(node.keys)\n",
    "        result = [self.visit(s) for s in node.values]\n",
    "        return result[0]\n",
    "    \n",
    "    def visit_Num(self, node):\n",
    "        self.single = 8\n",
    "        return self.nn * self.single\n",
    "    \n",
    "    def visit_Str(self, node):\n",
    "        t = len(node.s)\n",
    "        self.single = 8*t\n",
    "        return self.nn * self.single\n"
   ]
  },
  {
   "cell_type": "code",
   "execution_count": 18,
   "metadata": {},
   "outputs": [
    {
     "name": "stdout",
     "output_type": "stream",
     "text": [
      "Cost Test1 (bits):  24\n",
      "Cost Test2 (bits):  16\n",
      "Cost Test3 (bits):  Your input is not a valid DataFrame input\n",
      "Cost Test4 (bits):  Your input is not a valid DataFrame input\n",
      "Cost Test5 (bits):  32\n",
      "Cost Test6 (bits):  48\n"
     ]
    }
   ],
   "source": [
    "def cost(newInput):\n",
    "    '''test your input if is a dataframe then try to \n",
    "        find out the memory that your parameter will take\n",
    "        without executing the code'''\n",
    "    test = ast.parse(newInput)\n",
    "    res = is_DataFrame().visit(test)\n",
    "    if res == True:\n",
    "        return arr_memory_check().visit(test)\n",
    "    else:\n",
    "        return \"Your input is not a valid DataFrame input\"\n",
    "\n",
    "cost_test1 = 'pd.DataFrame(data = [1,2,3] )'\n",
    "cost_test2 = 'pd.DataFrame(data = {1:1,2:2},index = {1,2})'\n",
    "cost_test3 = 'pd.DataFrame(data = 1 )'\n",
    "cost_test4 = 'pd.DataFrame(data = {1,2,3} )'\n",
    "cost_test5 = 'k = pd.DataFrame(data = [1,2,3]+[4] )'\n",
    "cost_test6 = 'pd.DataFrame(data = {1:\"ert\",2:\"wier\"},index = {1,2})'\n",
    "print(\"Cost Test1 (bits): \", cost(cost_test1))\n",
    "print(\"Cost Test2 (bits): \", cost(cost_test2))\n",
    "print(\"Cost Test3 (bits): \", cost(cost_test3))\n",
    "print(\"Cost Test4 (bits): \", cost(cost_test4))\n",
    "print(\"Cost Test5 (bits): \", cost(cost_test5))\n",
    "print(\"Cost Test6 (bits): \", cost(cost_test6))"
   ]
  }
 ],
 "metadata": {
  "celltoolbar": "Slideshow",
  "kernelspec": {
   "display_name": "Python 3",
   "language": "python",
   "name": "python3"
  },
  "language_info": {
   "codemirror_mode": {
    "name": "ipython",
    "version": 3
   },
   "file_extension": ".py",
   "mimetype": "text/x-python",
   "name": "python",
   "nbconvert_exporter": "python",
   "pygments_lexer": "ipython3",
   "version": "3.7.1"
  }
 },
 "nbformat": 4,
 "nbformat_minor": 2
}
