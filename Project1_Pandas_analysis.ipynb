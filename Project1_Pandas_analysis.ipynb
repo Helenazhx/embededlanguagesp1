{
 "cells": [
  {
   "cell_type": "markdown",
   "metadata": {
    "slideshow": {
     "slide_type": "slide"
    }
   },
   "source": [
    "# <b> Project 1"
   ]
  },
  {
   "cell_type": "markdown",
   "metadata": {
    "slideshow": {
     "slide_type": "subslide"
    }
   },
   "source": [
    "<b>Introduction<br></b>\n",
    "In this project, there will be three parts to analyze pandas. First part will be Grammar for pandas library. Second part will implement an algorithm to identify if the input is vaild DataFrame structure. Third part will be the cost analysis of DataFrame and ___ . "
   ]
  },
  {
   "cell_type": "markdown",
   "metadata": {
    "slideshow": {
     "slide_type": "fragment"
    }
   },
   "source": [
    "The following BNF grammar definition of Pandas:\n",
    "\n",
    "\n",
    "\\begin{eqnarray*}\n",
    "\\textit{ mod}& ::= &\\textbf{Module(stmt* body))} \\\\\n",
    "                 &  |  &\\textbf{Expression(expr body)} \\\\\n",
    "\\\\\n",
    "\\textit{stmt}& ::= &\\textbf{Assign(expr* targets, stmt value))} \\\\\n",
    "\\\\\n",
    "\\\\\n",
    "\\textit{expr}& ::= &\\textbf{DataFrame(expr)} \\\\\n",
    "                 &  |  &\\textbf{Series(expr* value)} \\\\\n",
    "                 &  |  &\\textbf{ Num(object n)} \\\\\n",
    "                 &  |  &\\textbf{ Subscript(expr value, slice slice, expr_context ctx)} \\\\\n",
    "                 &  |  &\\textbf{ Str(string s)} \\\\\n",
    "                 &  |  &\\textbf{ Name(identifier id, expr_context ctx)} \\\\\n",
    "                 &  |  &\\textbf{ Dict(expr* keys,  expr* values)} \\\\\n",
    "                 &  |  &\\textbf{List(expr* elts, expr_context ctx)} \\\\\n",
    "                 &  |  &\\textbf{Tuple(expr* elts, expr_context ctx)} \\\\\n",
    "                 &  |  &\\textbf{Slice(expr* value)} \\\\\n",
    "                 &  |  &\\textbf{Call(expr func, expr* args, keyword* keywords)} \\\\\n",
    "                 &  |  &\\textbf{BinOp(expr left, operator op, expr right)} \\\\\n",
    "                 \\\\\n",
    "                 \\\\\n",
    "\\textit{operator}& ::= &\\textbf{Add | Sub | Mult | MatMult | Div | Mod | Pow } \\\\\n",
    "                   &  |  &\\textbf{| LShift| RShift | BitOr | BitXor | BitAnd | FloorDiv} \\\\\n",
    "\\\\\n",
    "\\textit{keyword arguments supplied to call:}\\\\\n",
    "\\textit{keyword}& ::= &\\textbf{(identifier? arg, expr value) } \\\\\n",
    "\\end{eqnarray*}\n"
   ]
  },
  {
   "cell_type": "markdown",
   "metadata": {
    "slideshow": {
     "slide_type": "fragment"
    }
   },
   "source": [
    "<b>Part II</b>\n",
    "<p>Below is an implementation of an algorithm that determine if the input statement can be transform or is already DataFrame or not\n",
    "<br>"
   ]
  },
  {
   "cell_type": "code",
   "execution_count": 274,
   "metadata": {
    "slideshow": {
     "slide_type": "slide"
    }
   },
   "outputs": [
    {
     "name": "stdout",
     "output_type": "stream",
     "text": [
      "Module(body=[Expr(value=Call(func=Attribute(value=Name(id='pd', ctx=Load()), attr='DataFrame', ctx=Load()), args=[], keywords=[keyword(arg='data', value=List(elts=[Num(n=1), Num(n=2), Num(n=3)], ctx=Load()))]))])\n",
      "True\n",
      "False\n"
     ]
    }
   ],
   "source": [
    "#This \n",
    "import ast \n",
    "import pandas as pd\n",
    "class is_DataFrame(ast.NodeVisitor):\n",
    "    def visit_Module(self, node):\n",
    "        results = [self.visit(s) for s in node.body]\n",
    "        return all(results)\n",
    "\n",
    "    def visit_Expr(self, node):\n",
    "        return self.visit(node.value)\n",
    "    \n",
    "    def visit_Call(self, node):\n",
    "        results = [self.visit(s) for s in node.keywords]\n",
    "        return all(results)\n",
    "    \n",
    "    def visit_keyword(self, node):\n",
    "        return self.visit(node.value)\n",
    "    \n",
    "    def visit_BinOp(self, node):\n",
    "        return self.visit(node.left) and self.visit(node.right)\n",
    "\n",
    "    def visit_List(self, node):\n",
    "        return True\n",
    "    \n",
    "    def visit_Dict(self, node):\n",
    "        return True\n",
    "    \n",
    "    def visit_Subscript(self, node):\n",
    "        return True\n",
    "\n",
    "\n",
    "test = ast.parse('pd.DataFrame(data = [1,2,3] + [9,2,3] )')\n",
    "test1 = ast.parse('pd.DataFrame(data = 1)')\n",
    "print(is_DataFrame().visit(test))\n",
    "print(is_DataFrame().visit(test1))"
   ]
  },
  {
   "cell_type": "markdown",
   "metadata": {
    "slideshow": {
     "slide_type": "fragment"
    }
   },
   "source": [
    "<b>Part III</b>\n",
    "<p>a) Implementation of a static analysis algorithm that infers the type of a single DataFrame expression."
   ]
  },
  {
   "cell_type": "code",
   "execution_count": 145,
   "metadata": {},
   "outputs": [],
   "source": [
    "import ast \n",
    "import pandas as pd\n",
    "'''class infer_type(ast.NodeVisitor):\n",
    "    \n",
    "    def visit_Module(self, node):\n",
    "        results = [self.visit(s) for s in node.body]\n",
    "        if results == [int] or results == [bool]:\n",
    "            return results[0]\n",
    "\n",
    "    def visit_Expr(self, node):\n",
    "        return self.visit(node.value)\n",
    "\n",
    "    def visit_BoolOp(self, node):\n",
    "        if set([self.visit(v) for v in node.values]) == {bool}:\n",
    "            return bool\n",
    "\n",
    "    def visit_BinOp(self, node):\n",
    "        if type(node.op) in [ast.Add, ast.Sub, ast.Mult]:\n",
    "            if self.visit(node.left) is int and\\\n",
    "               self.visit(node.right) is int:\n",
    "                return int\n",
    "    \n",
    "    def visit_Compare(self, node):\n",
    "        if type(node.ops[0]) in [ast.Eq]:\n",
    "            if self.visit(node.left) is int and\\\n",
    "               self.visit(node.comparators[0]) is int:\n",
    "                return bool\n",
    "    \n",
    "    def visit_Num(self, node):\n",
    "        if type(node.n) is int:\n",
    "            return int\n",
    "    \n",
    "    def visit_NameConstant(self, node):\n",
    "        if node.value in [True, False]:\n",
    "            return bool\n",
    "    \n",
    "print(infer_type().visit(ast.parse('5')))\n",
    "print(infer_type().visit(ast.parse('5 + 5')))\n",
    "print(infer_type().visit(ast.parse('True and False')))\n",
    "print(infer_type().visit(ast.parse('False or 5')))\n",
    "print(infer_type().visit(ast.parse('False + True')))\n",
    "print(infer_type().visit(ast.parse('3 or 4 and 5')))\n",
    "print(infer_type().visit(ast.parse('3 == 5')))'''\n",
    "\n",
    "class infer_type(ast.NodeVisitor):\n",
    "    \n",
    "    def visit_Module(self, node):\n",
    "        results = [self.visit(s) for s in node.body]\n",
    "        if results == [int] or results == [bool]:\n",
    "            return results[0]\n",
    "\n",
    "    def visit_Expr(self, node):\n",
    "        return self.visit(node.value)\n",
    "\n",
    "    def visit_Call(self, node):\n",
    "        results = [self.visit(s) for s in node.keywords]\n",
    "        if results == [int] or results == [bool]:\n",
    "            return results[0]\n",
    "    \n",
    "    def visit_keyword(self, node):\n",
    "        return self.visit(node.value)\n",
    "\n",
    "    def visit_BinOp(self, node):\n",
    "        if type(node.op) in [ast.Add, ast.Sub, ast.Mult]:\n",
    "            if self.visit(node.left) is int and\\\n",
    "               self.visit(node.right) is int:\n",
    "                return int\n",
    "    \n",
    "    def visit_Compare(self, node):\n",
    "        if type(node.ops[0]) in [ast.Eq]:\n",
    "            if self.visit(node.left) is int and\\\n",
    "               self.visit(node.comparators[0]) is int:\n",
    "                return bool\n",
    "    \n",
    "    def visit_Num(self, node):\n",
    "        if type(node.n) is int:\n",
    "            return int\n",
    "    \n",
    "    def visit_NameConstant(self, node):\n",
    "        if node.value in [True, False]:\n",
    "            return bool\n",
    "    \n",
    "a = 'pd.DataFrame(data = {1,2})'    "
   ]
  },
  {
   "cell_type": "markdown",
   "metadata": {
    "slideshow": {
     "slide_type": "fragment"
    }
   },
   "source": [
    "<p>b) DataFrame Cost analysis without runing code"
   ]
  },
  {
   "cell_type": "code",
   "execution_count": null,
   "metadata": {},
   "outputs": [],
   "source": []
  }
 ],
 "metadata": {
  "celltoolbar": "Slideshow",
  "kernelspec": {
   "display_name": "Python 3",
   "language": "python",
   "name": "python3"
  },
  "language_info": {
   "codemirror_mode": {
    "name": "ipython",
    "version": 3
   },
   "file_extension": ".py",
   "mimetype": "text/x-python",
   "name": "python",
   "nbconvert_exporter": "python",
   "pygments_lexer": "ipython3",
   "version": "3.7.1"
  }
 },
 "nbformat": 4,
 "nbformat_minor": 2
}
