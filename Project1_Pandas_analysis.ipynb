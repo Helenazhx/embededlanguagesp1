{
 "cells": [
  {
   "cell_type": "markdown",
   "metadata": {
    "slideshow": {
     "slide_type": "slide"
    }
   },
   "source": [
    "# <b> Project 1"
   ]
  },
  {
   "cell_type": "markdown",
   "metadata": {
    "slideshow": {
     "slide_type": "subslide"
    }
   },
   "source": [
    "In this project, there will be three parts to analyze Dataframe, a sub-library of pandas. "
   ]
  },
  {
   "cell_type": "code",
   "execution_count": 67,
   "metadata": {},
   "outputs": [],
   "source": [
    "import pandas as pd\n",
    "arr = [{\"1\",\"2\"}]\n",
    "arr1 = 1\n",
    "a = pd.DataFrame(data = arr)\n",
    "b = pd.Series(data = arr1)\n"
   ]
  },
  {
   "cell_type": "code",
   "execution_count": 68,
   "metadata": {},
   "outputs": [
    {
     "data": {
      "text/plain": [
       "str"
      ]
     },
     "execution_count": 68,
     "metadata": {},
     "output_type": "execute_result"
    }
   ],
   "source": [
    "type(a.iloc[0][1])"
   ]
  },
  {
   "cell_type": "markdown",
   "metadata": {
    "slideshow": {
     "slide_type": "fragment"
    }
   },
   "source": [
    "The following BNF grammar definition of Pandas:\n",
    "\n",
    "\n",
    "\\begin{eqnarray*}\n",
    "\\textit{stmt}& ::= &\\textbf{DataFrame(expr)} \\\\\n",
    "             &  |  &\\textbf{Series(expr* value)} \\\\\n",
    "             &  |  &\\textbf{Assign(expr* targets, stmt value))} \\\\\n",
    "\\\\\n",
    "\\\\\n",
    "\\textit{expr}& ::= &\\textbf{ Num(object n)} \\\\\n",
    "                 &  |  &\\textbf{ Numpy(expr* elts)} \\\\\n",
    "                 &  |  &\\textbf{ Str(string s)} \\\\\n",
    "                 &  |  &\\textbf{ Dict(expr* keys,  expr* values)} \\\\\n",
    "                 &  |  &\\textbf{List(expr* elts, expr_context ctx)} \\\\\n",
    "                 &  |  &\\textbf{Tuple(expr* elts, expr_context ctx)} \\\\\n",
    "                 &  |  &\\textbf{Call(expr func, expr* args, keyword* keywords)} \\\\\n",
    "                 &  |  &\\textbf{Compare(expr left, cmpop* ops, expr* comparators)} \\\\\n",
    "                 \\\\\n",
    "                 \\\\\n",
    "\\textit{cmpop}& ::= &\\textbf{Eq | NotEq | Lt | LtE | Gt | GtE } \\\\\n",
    "\\textit{cmpop}\\\\\n",
    "\\textit{keyword}& ::= &\\textbf{(identifier? arg, expr value) } \\\\\n",
    "\\end{eqnarray*}\n",
    "\n",
    "This programming language now contains infinitely many finite token sequences:\n",
    "\n",
    "$$L = \\{\\ \\textbf{true} \\ , \\ \\textbf{false} \\ , \\ \\textbf{not ( false )} \\ , \\ \\textbf{and ( true , false )} \\ , \\ldots \\ \\}$$"
   ]
  },
  {
   "cell_type": "code",
   "execution_count": null,
   "metadata": {},
   "outputs": [],
   "source": []
  }
 ],
 "metadata": {
  "celltoolbar": "Slideshow",
  "kernelspec": {
   "display_name": "Python 3",
   "language": "python",
   "name": "python3"
  },
  "language_info": {
   "codemirror_mode": {
    "name": "ipython",
    "version": 3
   },
   "file_extension": ".py",
   "mimetype": "text/x-python",
   "name": "python",
   "nbconvert_exporter": "python",
   "pygments_lexer": "ipython3",
   "version": "3.7.1"
  }
 },
 "nbformat": 4,
 "nbformat_minor": 2
}
