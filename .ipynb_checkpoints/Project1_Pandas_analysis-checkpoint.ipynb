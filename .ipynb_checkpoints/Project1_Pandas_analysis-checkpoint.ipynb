{
 "cells": [
  {
   "cell_type": "markdown",
   "metadata": {
    "slideshow": {
     "slide_type": "slide"
    }
   },
   "source": [
    "# <b> Project 1"
   ]
  },
  {
   "cell_type": "markdown",
   "metadata": {
    "slideshow": {
     "slide_type": "subslide"
    }
   },
   "source": [
    "<b>Introduction<br></b>\n",
    "In this project, there will be three parts to analyze pandas. First part will be Grammar for pandas library. Second part will implement an algorithm to identify if the input is vaild DataFrame structure. Third part will be the cost analysis of DataFrame and ___ . "
   ]
  },
  {
   "cell_type": "markdown",
   "metadata": {
    "slideshow": {
     "slide_type": "fragment"
    }
   },
   "source": [
    "The following BNF grammar definition of Pandas:\n",
    "\n",
    "\n",
    "\\begin{eqnarray*}\n",
    "\\textit{ mod}& ::= &\\textbf{Module(stmt* body))} \\\\\n",
    "                 &  |  &\\textbf{Expression(expr body)} \\\\\n",
    "\\\\\n",
    "\\textit{stmt}& ::= &\\textbf{Assign(expr* targets, stmt value))} \\\\\n",
    "\\\\\n",
    "\\\\\n",
    "\\textit{expr}& ::= &\\textbf{Attribute(expr value, identifier attr, expr_context ctx)} \\\\\n",
    "                 &  |  &\\textbf{ Num(object n)} \\\\\n",
    "                 &  |  &\\textbf{ Subscript(expr value, slice slice, expr_context ctx)} \\\\\n",
    "                 &  |  &\\textbf{ Str(string s)} \\\\\n",
    "                 &  |  &\\textbf{ Name(identifier id, expr_context ctx)} \\\\\n",
    "                 &  |  &\\textbf{ Dict(expr* keys,  expr* values)} \\\\\n",
    "                 &  |  &\\textbf{List(expr* elts, expr_context ctx)} \\\\\n",
    "                 &  |  &\\textbf{Tuple(expr* elts, expr_context ctx)} \\\\\n",
    "                 &  |  &\\textbf{Slice(expr* value)} \\\\\n",
    "                 &  |  &\\textbf{Call(expr func, expr* args, keyword* keywords)} \\\\\n",
    "                 &  |  &\\textbf{BinOp(expr left, operator op, expr right)} \\\\\n",
    "                 \\\\\n",
    "                 \\\\\n",
    "\\textit{operator}& ::= &\\textbf{Add } \\\\\n",
    "\\\\\n",
    "\\\\\n",
    "\\textit{keyword arguments supplied to call:}\\\\\n",
    "\\textit{keyword}& ::= &\\textbf{(identifier? arg, expr value) } \\\\\n",
    "\\end{eqnarray*}\n"
   ]
  },
  {
   "cell_type": "markdown",
   "metadata": {
    "slideshow": {
     "slide_type": "fragment"
    }
   },
   "source": [
    "<b>Part II</b>\n",
    "<p>Below is an implementation of an algorithm that determine if the input statement can be transform or is already DataFrame or not\n",
    "<br>"
   ]
  },
  {
   "cell_type": "code",
   "execution_count": 362,
   "metadata": {
    "slideshow": {
     "slide_type": "slide"
    }
   },
   "outputs": [
    {
     "name": "stdout",
     "output_type": "stream",
     "text": [
      "True\n",
      "False\n"
     ]
    }
   ],
   "source": [
    "#This \n",
    "import ast \n",
    "import pandas as pd\n",
    "class is_DataFrame(ast.NodeVisitor):\n",
    "    def visit_Module(self, node):\n",
    "        results = [self.visit(s) for s in node.body]\n",
    "        return all(results)\n",
    "\n",
    "    def visit_Expr(self, node):\n",
    "        return self.visit(node.value)\n",
    "    \n",
    "    def visit_Call(self, node):\n",
    "        results = [self.visit(s) for s in node.keywords]\n",
    "        return all(results)\n",
    "    \n",
    "    def visit_keyword(self, node):\n",
    "        return self.visit(node.value)\n",
    "    \n",
    "    def visit_BinOp(self, node):\n",
    "        return self.visit(node.left) and self.visit(node.right)\n",
    "\n",
    "    def visit_List(self, node):\n",
    "        return True\n",
    "    \n",
    "    def visit_Dict(self, node):\n",
    "        '''need to specify the if index exist'''\n",
    "        return True\n",
    "    \n",
    "    def visit_Subscript(self, node):\n",
    "        return True\n",
    "    \n",
    "\n",
    "\n",
    "test = ast.parse('pd.DataFrame(data = [1,2,3] + [9,2,3] )')\n",
    "test1 = ast.parse('pd.DataFrame(data = 1)')\n",
    "print(is_DataFrame().visit(test))\n",
    "print(is_DataFrame().visit(test1))"
   ]
  },
  {
   "cell_type": "markdown",
   "metadata": {
    "slideshow": {
     "slide_type": "fragment"
    }
   },
   "source": [
    "<b>Part III</b>\n",
    "<p>a) Implementation of a static analysis algorithm that infers the type of a single DataFrame expression."
   ]
  },
  {
   "cell_type": "code",
   "execution_count": 376,
   "metadata": {},
   "outputs": [],
   "source": [
    "import ast \n",
    "import pandas as pd\n",
    "\n",
    "class infer_type(ast.NodeVisitor):\n",
    "    \n",
    "    def visit_Module(self, node):\n",
    "        results = [self.visit(s) for s in node.body]\n",
    "        if results == [dict] or results == [list]:\n",
    "            return results[0]\n",
    "\n",
    "    def visit_Expr(self, node):\n",
    "        return self.visit(node.value)\n",
    "\n",
    "    def visit_Call(self, node):\n",
    "        results = [self.visit(s) for s in node.keywords]\n",
    "        if results == [dict] or results == [list]:\n",
    "            return results[0]\n",
    "    \n",
    "    def visit_keyword(self, node):\n",
    "        return self.visit(node.value)\n",
    "\n",
    "    def visit_BinOp(self, node):\n",
    "        if type(node.op) in [ast.Add]:\n",
    "            if self.visit(node.left) is list and\\\n",
    "               self.visit(node.right) is list:\n",
    "                return list    \n",
    "    \n",
    "    def visit_List(self, node):\n",
    "        return list\n",
    "    \n",
    "    def visit_Dict(self, node):\n",
    "        return dict\n"
   ]
  },
  {
   "cell_type": "code",
   "execution_count": 462,
   "metadata": {},
   "outputs": [
    {
     "name": "stdout",
     "output_type": "stream",
     "text": [
      "2\n",
      "Module(body=[Expr(value=Call(func=Attribute(value=Name(id='pd', ctx=Load()), attr='DataFrame', ctx=Load()), args=[], keywords=[keyword(arg='data', value=Dict(keys=[Num(n=1), Num(n=2)], values=[Num(n=1), Num(n=2)])), keyword(arg='index', value=Set(elts=[Num(n=0), Num(n=1)]))]))])\n"
     ]
    }
   ],
   "source": [
    "def typeInput(newInput):\n",
    "    '''test your input if is a dataframe then try to \n",
    "        find out the type of you dataframe parameter'''\n",
    "    test = ast.parse(newInput)\n",
    "    res = is_DataFrame().visit(test)\n",
    "    if res == True:\n",
    "        return infer_type().visit(test)\n",
    "    else:\n",
    "        return \"Your input is not a valid DataFrame input\"\n",
    "    \n",
    "\n",
    "    \n",
    "\n",
    "a1 = 'pd.DataFrame(data = {1:1,2:2},index={0,1})'    \n",
    "a = ast.parse(a1)\n",
    "print(len(a.body[0].value.keywords))\n",
    "ast.dump(a)\n",
    "print(ast.dump(a))\n",
    "# print(typeInput(a1))"
   ]
  },
  {
   "cell_type": "markdown",
   "metadata": {
    "slideshow": {
     "slide_type": "fragment"
    }
   },
   "source": [
    "<p>b) DataFrame Cost analysis without runing code"
   ]
  },
  {
   "cell_type": "code",
   "execution_count": 453,
   "metadata": {},
   "outputs": [
    {
     "name": "stdout",
     "output_type": "stream",
     "text": [
      "Module(body=[Expr(value=Call(func=Attribute(value=Name(id='pd', ctx=Load()), attr='DataFrame', ctx=Load()), args=[], keywords=[keyword(arg='data', value=Dict(keys=[Num(n=1), Num(n=2)], values=[List(elts=[Num(n=2), Num(n=8)], ctx=Load()), List(elts=[Num(n=9), Num(n=3)], ctx=Load())]))]))])\n",
      "2\n"
     ]
    }
   ],
   "source": [
    "class arr_memory_check(ast.NodeVisitor):\n",
    "    \n",
    "    def __init__(self):\n",
    "        self.nn = 0\n",
    "        self.single = 1\n",
    "        self.mm = 1\n",
    "    \n",
    "    def visit_Module(self, node):\n",
    "        results = [self.visit(s) for s in node.body]\n",
    "        return results[0]\n",
    "\n",
    "    def visit_Expr(self, node):\n",
    "        return self.visit(node.value)\n",
    "\n",
    "    def visit_Call(self, node):\n",
    "        results = [self.visit(s) for s in node.keywords]\n",
    "        return results[0]\n",
    "    \n",
    "    def visit_keyword(self, node):\n",
    "        return self.visit(node.value)\n",
    "\n",
    "    def visit_BinOp(self, node):\n",
    "         return self.visit(node.left) + self.visit(node.right)    \n",
    "    \n",
    "    def visit_List(self, node):\n",
    "        self.nn = len(node.elts)\n",
    "        result = [self.visit(s) for s in node.elts]\n",
    "        return result[0]\n",
    "    \n",
    "    def visit_Dict(self, node):\n",
    "        self.nn = len(node.keys)\n",
    "        result = [self.visit(s) for s in node.values]\n",
    "        return result[0]\n",
    "    \n",
    "    def visit_Num(self, node):\n",
    "        self.single = 1\n",
    "        return self.nn * self.single * self.mm\n",
    "\n",
    "    \n",
    "a1 = 'pd.DataFrame(data = {1:[2,8],2:[9,3]})'    \n",
    "a = ast.parse(a1)\n",
    "ast.dump(a)\n",
    "print(ast.dump(a))\n",
    "print(arr_memory_check().visit(a))"
   ]
  },
  {
   "cell_type": "code",
   "execution_count": 452,
   "metadata": {},
   "outputs": [
    {
     "data": {
      "text/html": [
       "<div>\n",
       "<style scoped>\n",
       "    .dataframe tbody tr th:only-of-type {\n",
       "        vertical-align: middle;\n",
       "    }\n",
       "\n",
       "    .dataframe tbody tr th {\n",
       "        vertical-align: top;\n",
       "    }\n",
       "\n",
       "    .dataframe thead th {\n",
       "        text-align: right;\n",
       "    }\n",
       "</style>\n",
       "<table border=\"1\" class=\"dataframe\">\n",
       "  <thead>\n",
       "    <tr style=\"text-align: right;\">\n",
       "      <th></th>\n",
       "      <th>1</th>\n",
       "      <th>2</th>\n",
       "    </tr>\n",
       "  </thead>\n",
       "  <tbody>\n",
       "    <tr>\n",
       "      <th>0</th>\n",
       "      <td>1</td>\n",
       "      <td>2</td>\n",
       "    </tr>\n",
       "    <tr>\n",
       "      <th>1</th>\n",
       "      <td>1</td>\n",
       "      <td>2</td>\n",
       "    </tr>\n",
       "  </tbody>\n",
       "</table>\n",
       "</div>"
      ],
      "text/plain": [
       "   1  2\n",
       "0  1  2\n",
       "1  1  2"
      ]
     },
     "execution_count": 452,
     "metadata": {},
     "output_type": "execute_result"
    }
   ],
   "source": [
    "pd.DataFrame(data = {1:1,2:2},index={0,1})"
   ]
  },
  {
   "cell_type": "code",
   "execution_count": null,
   "metadata": {},
   "outputs": [],
   "source": []
  }
 ],
 "metadata": {
  "celltoolbar": "Slideshow",
  "kernelspec": {
   "display_name": "Python 3",
   "language": "python",
   "name": "python3"
  },
  "language_info": {
   "codemirror_mode": {
    "name": "ipython",
    "version": 3
   },
   "file_extension": ".py",
   "mimetype": "text/x-python",
   "name": "python",
   "nbconvert_exporter": "python",
   "pygments_lexer": "ipython3",
   "version": "3.7.1"
  }
 },
 "nbformat": 4,
 "nbformat_minor": 2
}
